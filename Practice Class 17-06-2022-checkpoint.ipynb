{
 "cells": [
  {
   "cell_type": "code",
   "execution_count": 4,
   "id": "529713e5",
   "metadata": {},
   "outputs": [
    {
     "name": "stdout",
     "output_type": "stream",
     "text": [
      "Enter Name: taqi\n",
      "['naveed', 'umair', 'zeeshan', 'farhan']\n",
      "['taqi']\n"
     ]
    }
   ],
   "source": [
    "rem_list = ['naveed','umair','taqi','zeeshan','farhan']\n",
    "add_list =[]\n",
    "task = input(\"Enter Name: \")\n",
    "rem_list.remove(task)\n",
    "add_list.append(task)\n",
    "print(rem_list)\n",
    "print(add_list)"
   ]
  },
  {
   "cell_type": "code",
   "execution_count": 9,
   "id": "fa7d81e0",
   "metadata": {},
   "outputs": [
    {
     "name": "stdout",
     "output_type": "stream",
     "text": [
      "Enter Name: zeeshan\n",
      "['naveed', 'umair', 'taqi', 'farhan']\n",
      "['zeeshan']\n"
     ]
    }
   ],
   "source": [
    "a = ['naveed','umair','taqi','zeeshan','farhan']\n",
    "b =[]\n",
    "user_input = input(\"Enter Name: \")\n",
    "if user_input in a: \n",
    "    a.pop(a.index(user_input))\n",
    "    b.append(user_input)\n",
    "else:\n",
    "    print(\"Not in list\")\n",
    "print(a)\n",
    "print(b)"
   ]
  },
  {
   "cell_type": "code",
   "execution_count": null,
   "id": "21ec8762",
   "metadata": {},
   "outputs": [],
   "source": []
  },
  {
   "cell_type": "code",
   "execution_count": null,
   "id": "49b3a00b",
   "metadata": {},
   "outputs": [],
   "source": []
  }
 ],
 "metadata": {
  "kernelspec": {
   "display_name": "Python 3 (ipykernel)",
   "language": "python",
   "name": "python3"
  },
  "language_info": {
   "codemirror_mode": {
    "name": "ipython",
    "version": 3
   },
   "file_extension": ".py",
   "mimetype": "text/x-python",
   "name": "python",
   "nbconvert_exporter": "python",
   "pygments_lexer": "ipython3",
   "version": "3.9.12"
  }
 },
 "nbformat": 4,
 "nbformat_minor": 5
}
