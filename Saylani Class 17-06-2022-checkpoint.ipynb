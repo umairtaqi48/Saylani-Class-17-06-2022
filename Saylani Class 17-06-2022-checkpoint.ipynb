{
 "cells": [
  {
   "cell_type": "markdown",
   "id": "662d6800",
   "metadata": {},
   "source": [
    "# Classs 5\n",
    "* Tuple\n",
    "*set\n",
    "*Dictionary "
   ]
  },
  {
   "cell_type": "code",
   "execution_count": 14,
   "id": "2a55bbca",
   "metadata": {},
   "outputs": [
    {
     "name": "stdout",
     "output_type": "stream",
     "text": [
      "kashif\n",
      "DS\n"
     ]
    }
   ],
   "source": [
    "data = [['1', 'qasim', 'msds'],\n",
    "        ['2', 'kashif','ai'],\n",
    "        ['3', 'kasif', 'DS']]\n",
    "print(data[1][1])\n",
    "print(data[2][-1])"
   ]
  },
  {
   "cell_type": "markdown",
   "id": "7a240f3b",
   "metadata": {},
   "source": [
    "# Tuple: can't update the values"
   ]
  },
  {
   "cell_type": "code",
   "execution_count": 16,
   "id": "58d4cdc7",
   "metadata": {},
   "outputs": [
    {
     "name": "stdout",
     "output_type": "stream",
     "text": [
      "Asif\n",
      "('Qasim', 'Zohaib')\n"
     ]
    },
    {
     "data": {
      "text/plain": [
       "('Qasim', 'Zohaib', 'Asif')"
      ]
     },
     "execution_count": 16,
     "metadata": {},
     "output_type": "execute_result"
    }
   ],
   "source": [
    "names = (\"Qasim\", \"Zohaib\", \"Asif\")\n",
    "print(names[-1])\n",
    "print(names[:2])\n",
    "names"
   ]
  },
  {
   "cell_type": "code",
   "execution_count": 15,
   "id": "cc16eec7",
   "metadata": {},
   "outputs": [
    {
     "ename": "TypeError",
     "evalue": "'tuple' object does not support item assignment",
     "output_type": "error",
     "traceback": [
      "\u001b[1;31m---------------------------------------------------------------------------\u001b[0m",
      "\u001b[1;31mTypeError\u001b[0m                                 Traceback (most recent call last)",
      "Input \u001b[1;32mIn [15]\u001b[0m, in \u001b[0;36m<cell line: 1>\u001b[1;34m()\u001b[0m\n\u001b[1;32m----> 1\u001b[0m name[\u001b[38;5;241m-\u001b[39m\u001b[38;5;241m1\u001b[39m] \u001b[38;5;241m=\u001b[39m \u001b[38;5;124m\"\u001b[39m\u001b[38;5;124mHamza\u001b[39m\u001b[38;5;124m\"\u001b[39m\n",
      "\u001b[1;31mTypeError\u001b[0m: 'tuple' object does not support item assignment"
     ]
    }
   ],
   "source": [
    "name[-1] = \"Hamza\""
   ]
  },
  {
   "cell_type": "markdown",
   "id": "149144c2",
   "metadata": {},
   "source": [
    "# Set: to identify the unique value"
   ]
  },
  {
   "cell_type": "code",
   "execution_count": 20,
   "id": "7c303386",
   "metadata": {},
   "outputs": [
    {
     "name": "stdout",
     "output_type": "stream",
     "text": [
      "{'qasim', 'asif', 'hamza'}\n"
     ]
    },
    {
     "data": {
      "text/plain": [
       "{'asif', 'hamza', 'qasim'}"
      ]
     },
     "execution_count": 20,
     "metadata": {},
     "output_type": "execute_result"
    }
   ],
   "source": [
    "names={\"qasim\", 'hamza', 'asif', 'qasim', 'hamza'}\n",
    "print(names)\n",
    "names"
   ]
  },
  {
   "cell_type": "code",
   "execution_count": 19,
   "id": "7c0cf589",
   "metadata": {},
   "outputs": [
    {
     "data": {
      "text/plain": [
       "{'a', 'b'}"
      ]
     },
     "execution_count": 19,
     "metadata": {},
     "output_type": "execute_result"
    }
   ],
   "source": [
    "set(['a','b', 'a','a'])"
   ]
  },
  {
   "cell_type": "markdown",
   "id": "168a1bf8",
   "metadata": {},
   "source": [
    "# Dictionary: to replace the indexing value, as index value by default start from 0 however in the dictionary we can replace from 0 to 1. "
   ]
  },
  {
   "cell_type": "code",
   "execution_count": 99,
   "id": "31f093d2",
   "metadata": {},
   "outputs": [
    {
     "name": "stdout",
     "output_type": "stream",
     "text": [
      "{'name': 'qasim', 'fname': 'aslam', 'couse': 'AI', 'timig': '9 pm to 12 am'}\n",
      "9 pm to 12 am\n",
      "dict_keys(['name', 'fname', 'couse', 'timig'])\n",
      "dict_values(['qasim', 'aslam', 'AI', '9 pm to 12 am'])\n"
     ]
    }
   ],
   "source": [
    "#            0      1     2        3    #index\n",
    "data = ['qasim', 'aslam','AI', '9 pm TO 12 pm'] #values, elements\n",
    "\n",
    "data = {\n",
    "        #key :value\n",
    "        'name':'qasim',\n",
    "        'fname':'aslam',\n",
    "        'couse': 'AI',\n",
    "        'timig': '9 pm to 12 am'\n",
    "}\n",
    "print(data)\n",
    "print(data['timig'])\n",
    "print(data.keys())\n",
    "print(data.values())"
   ]
  },
  {
   "cell_type": "code",
   "execution_count": 104,
   "id": "8f1c7d8c",
   "metadata": {},
   "outputs": [
    {
     "name": "stdout",
     "output_type": "stream",
     "text": [
      "{'name': 'Zohaib', 'fname': 'aslam', 'couse': 'AI', 'timig': '9 pm to 12 am', 'names': 'Zohaib'}\n",
      "{'name': 'Zohaib', 'fname': 'aslam', 'couse': 'AI', 'timig': '9 pm to 12 am', 'names': 'Zohaib'}\n"
     ]
    }
   ],
   "source": [
    "data1 = data.copy()\n",
    "data1['name'] = 'Zohaib'\n",
    "print(data1)\n",
    "print(data)"
   ]
  },
  {
   "cell_type": "code",
   "execution_count": 107,
   "id": "e7e31715",
   "metadata": {},
   "outputs": [
    {
     "data": {
      "text/plain": [
       "{'id': None, 'name': None, 'f_name': None, 'couse': None, 'timing': None}"
      ]
     },
     "execution_count": 107,
     "metadata": {},
     "output_type": "execute_result"
    }
   ],
   "source": [
    "dict.fromkeys(['id', 'name', 'f_name','couse','timing'])"
   ]
  },
  {
   "cell_type": "code",
   "execution_count": 114,
   "id": "d6c8c1ed",
   "metadata": {},
   "outputs": [
    {
     "data": {
      "text/plain": [
       "'na'"
      ]
     },
     "execution_count": 114,
     "metadata": {},
     "output_type": "execute_result"
    }
   ],
   "source": [
    "data.get('address')\n",
    "data.get('name')\n",
    "data.get('address','na')"
   ]
  },
  {
   "cell_type": "code",
   "execution_count": 117,
   "id": "70f56434",
   "metadata": {},
   "outputs": [
    {
     "data": {
      "text/plain": [
       "{'id': 1, 'name': 'qasim', 'f_name': 'Aslam'}"
      ]
     },
     "execution_count": 117,
     "metadata": {},
     "output_type": "execute_result"
    }
   ],
   "source": [
    "data ={}\n",
    "data['id'] = 1\n",
    "data['name'] = 'qasim'\n",
    "data['f_name'] = 'Aslam'\n",
    "data"
   ]
  },
  {
   "cell_type": "code",
   "execution_count": 118,
   "id": "543659ed",
   "metadata": {},
   "outputs": [
    {
     "data": {
      "text/plain": [
       "1"
      ]
     },
     "execution_count": 118,
     "metadata": {},
     "output_type": "execute_result"
    }
   ],
   "source": [
    "data.setdefault('id')"
   ]
  },
  {
   "cell_type": "code",
   "execution_count": 123,
   "id": "283e4c68",
   "metadata": {},
   "outputs": [
    {
     "name": "stdout",
     "output_type": "stream",
     "text": [
      "{'id': 1, 'name': 'qasim', 'f_name': 'Aslam'}\n"
     ]
    },
    {
     "ename": "TypeError",
     "evalue": "dict.popitem() takes no arguments (1 given)",
     "output_type": "error",
     "traceback": [
      "\u001b[1;31m---------------------------------------------------------------------------\u001b[0m",
      "\u001b[1;31mTypeError\u001b[0m                                 Traceback (most recent call last)",
      "Input \u001b[1;32mIn [123]\u001b[0m, in \u001b[0;36m<cell line: 2>\u001b[1;34m()\u001b[0m\n\u001b[0;32m      1\u001b[0m \u001b[38;5;28mprint\u001b[39m(data)\n\u001b[1;32m----> 2\u001b[0m \u001b[43mdata\u001b[49m\u001b[38;5;241;43m.\u001b[39;49m\u001b[43mpopitem\u001b[49m\u001b[43m(\u001b[49m\u001b[38;5;124;43m'\u001b[39;49m\u001b[38;5;124;43mname\u001b[39;49m\u001b[38;5;124;43m'\u001b[39;49m\u001b[43m)\u001b[49m\n\u001b[0;32m      3\u001b[0m \u001b[38;5;28mprint\u001b[39m(data)\n",
      "\u001b[1;31mTypeError\u001b[0m: dict.popitem() takes no arguments (1 given)"
     ]
    }
   ],
   "source": [
    "print(data)\n",
    "data.popitem('name')\n",
    "print(data)"
   ]
  },
  {
   "cell_type": "code",
   "execution_count": 28,
   "id": "b77d1288",
   "metadata": {},
   "outputs": [
    {
     "data": {
      "text/plain": [
       "'AI'"
      ]
     },
     "execution_count": 28,
     "metadata": {},
     "output_type": "execute_result"
    }
   ],
   "source": [
    "data['couse']"
   ]
  },
  {
   "cell_type": "code",
   "execution_count": null,
   "id": "d73f6384",
   "metadata": {},
   "outputs": [],
   "source": []
  },
  {
   "cell_type": "code",
   "execution_count": 30,
   "id": "65ef992d",
   "metadata": {},
   "outputs": [
    {
     "data": {
      "text/plain": [
       "'qasim'"
      ]
     },
     "execution_count": 30,
     "metadata": {},
     "output_type": "execute_result"
    }
   ],
   "source": [
    "data['name']"
   ]
  },
  {
   "cell_type": "code",
   "execution_count": 32,
   "id": "309000d7",
   "metadata": {},
   "outputs": [
    {
     "data": {
      "text/plain": [
       "['b', 'a']"
      ]
     },
     "execution_count": 32,
     "metadata": {},
     "output_type": "execute_result"
    }
   ],
   "source": [
    "names = list(set(['a', 'a','a', 'b']))\n",
    "names"
   ]
  },
  {
   "cell_type": "code",
   "execution_count": 37,
   "id": "c7a313da",
   "metadata": {},
   "outputs": [
    {
     "data": {
      "text/plain": [
       "dict"
      ]
     },
     "execution_count": 37,
     "metadata": {},
     "output_type": "execute_result"
    }
   ],
   "source": [
    "data.__class__ #attribute"
   ]
  },
  {
   "cell_type": "markdown",
   "id": "3def07ed",
   "metadata": {},
   "source": [
    "# Tuple method"
   ]
  },
  {
   "cell_type": "code",
   "execution_count": 38,
   "id": "a69042ca",
   "metadata": {},
   "outputs": [],
   "source": [
    "names = ('a', 'b','c', 'a')"
   ]
  },
  {
   "cell_type": "code",
   "execution_count": null,
   "id": "a97eea48",
   "metadata": {},
   "outputs": [],
   "source": []
  },
  {
   "cell_type": "code",
   "execution_count": 43,
   "id": "56d64795",
   "metadata": {},
   "outputs": [
    {
     "name": "stdout",
     "output_type": "stream",
     "text": [
      "('a', 'b', 'c', 'a')\n",
      "2\n",
      "1\n"
     ]
    }
   ],
   "source": [
    "print(names)\n",
    "print(names.count('a'))\n",
    "print(names.index('b'))"
   ]
  },
  {
   "cell_type": "code",
   "execution_count": 46,
   "id": "9714acf8",
   "metadata": {},
   "outputs": [
    {
     "data": {
      "text/plain": [
       "['__add__',\n",
       " '__class__',\n",
       " '__class_getitem__',\n",
       " '__contains__',\n",
       " '__delattr__',\n",
       " '__dir__',\n",
       " '__doc__',\n",
       " '__eq__',\n",
       " '__format__',\n",
       " '__ge__',\n",
       " '__getattribute__',\n",
       " '__getitem__',\n",
       " '__getnewargs__',\n",
       " '__gt__',\n",
       " '__hash__',\n",
       " '__init__',\n",
       " '__init_subclass__',\n",
       " '__iter__',\n",
       " '__le__',\n",
       " '__len__',\n",
       " '__lt__',\n",
       " '__mul__',\n",
       " '__ne__',\n",
       " '__new__',\n",
       " '__reduce__',\n",
       " '__reduce_ex__',\n",
       " '__repr__',\n",
       " '__rmul__',\n",
       " '__setattr__',\n",
       " '__sizeof__',\n",
       " '__str__',\n",
       " '__subclasshook__',\n",
       " 'count',\n",
       " 'index']"
      ]
     },
     "execution_count": 46,
     "metadata": {},
     "output_type": "execute_result"
    }
   ],
   "source": [
    "dir(names)"
   ]
  },
  {
   "cell_type": "code",
   "execution_count": 67,
   "id": "fc687551",
   "metadata": {},
   "outputs": [
    {
     "name": "stdout",
     "output_type": "stream",
     "text": [
      "{'b', 'a', 'c'}\n",
      "{'b', 'a', 'c', 'f'}\n",
      "{'c', 'f'}\n"
     ]
    },
    {
     "data": {
      "text/plain": [
       "{'a', 'b', 'c', 'f'}"
      ]
     },
     "execution_count": 67,
     "metadata": {},
     "output_type": "execute_result"
    }
   ],
   "source": [
    "a = {'a','a','b','c'}\n",
    "print(a)\n",
    "a.add('f')\n",
    "print(a)\n",
    "print(a.difference({'a','b','x','y','z'}))\n",
    "a"
   ]
  },
  {
   "cell_type": "code",
   "execution_count": 77,
   "id": "e5decc6d",
   "metadata": {},
   "outputs": [
    {
     "name": "stdout",
     "output_type": "stream",
     "text": [
      "{9, 3, 4, 7}\n",
      "set()\n",
      "False\n",
      "False\n",
      "False\n"
     ]
    }
   ],
   "source": [
    "old_students = {1,8,10}\n",
    "new_students = {1,3,4,7,9}\n",
    "print(new_students.difference(old_students))\n",
    "print(new_students.intersection(old_students).intersection({3,8}))\n",
    "#print (new_students.diffenence_update)\n",
    "print(new_students.isdisjoint(old_students))\n",
    "print(new_students.issubset(old_students))\n",
    "print(new_students.issuperset(old_students))"
   ]
  },
  {
   "cell_type": "code",
   "execution_count": 94,
   "id": "d78e5cae",
   "metadata": {},
   "outputs": [
    {
     "name": "stdout",
     "output_type": "stream",
     "text": [
      "{1, 3, 4, 7, 9}\n",
      "{3, 4, 7, 9}\n",
      "{3, 7, 9}\n",
      "{3, 20, 7, 9, 10}\n"
     ]
    }
   ],
   "source": [
    "new_students = {1,3,4,7,9}\n",
    "print(new_students)\n",
    "new_students.pop() #remove from last position for list we can also provide index number \n",
    "print(new_students)\n",
    "new_students.remove(4) #search and then remove it.\n",
    "print(new_students)\n",
    "new_students.update({10,3,20})\n",
    "print(new_students)"
   ]
  },
  {
   "cell_type": "markdown",
   "id": "d6a1d740",
   "metadata": {},
   "source": []
  },
  {
   "cell_type": "code",
   "execution_count": null,
   "id": "8a010a0f",
   "metadata": {},
   "outputs": [],
   "source": []
  }
 ],
 "metadata": {
  "kernelspec": {
   "display_name": "Python 3 (ipykernel)",
   "language": "python",
   "name": "python3"
  },
  "language_info": {
   "codemirror_mode": {
    "name": "ipython",
    "version": 3
   },
   "file_extension": ".py",
   "mimetype": "text/x-python",
   "name": "python",
   "nbconvert_exporter": "python",
   "pygments_lexer": "ipython3",
   "version": "3.9.12"
  }
 },
 "nbformat": 4,
 "nbformat_minor": 5
}
